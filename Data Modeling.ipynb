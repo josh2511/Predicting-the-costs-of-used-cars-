{
 "cells": [
  {
   "cell_type": "markdown",
   "metadata": {},
   "source": [
    "# Predicting The Costs Of Used Cars"
   ]
  },
  {
   "cell_type": "markdown",
   "metadata": {},
   "source": [
    "The data science skills can help you predict the price of a used car based on a given set of features discussed below.\n",
    "\n",
    "Size of training set: 6,019 records\n",
    "\n",
    "Size of test set: 1,234 records\n",
    "\n",
    "FEATURES:\n",
    "\n",
    "Name: The brand and model of the car.\n",
    "\n",
    "Location: The location in which the car is being sold or is available for purchase.\n",
    "\n",
    "Year: The year or edition of the model.\n",
    "\n",
    "Kilometers_Driven: The total kilometres driven in the car by the previous owner(s) in KM.\n",
    "\n",
    "Fuel_Type: The type of fuel used by the car.\n",
    "\n",
    "Transmission: The type of transmission used by the car.\n",
    "\n",
    "Owner_Type: Whether the ownership is Firsthand, Second hand or other.\n",
    "\n",
    "Mileage: The standard mileage offered by the car company in kmpl or km/kg\n",
    "\n",
    "Engine: The displacement volume of the engine in cc.\n",
    "\n",
    "Power: The maximum power of the engine in bhp.\n",
    "\n",
    "Seats: The number of seats in the car.\n",
    "\n",
    "New_Price: The price of a new car of the same model.\n",
    "\n",
    "Price: The price of the used car in INR Lakhs."
   ]
  },
  {
   "cell_type": "code",
   "execution_count": 1,
   "metadata": {},
   "outputs": [],
   "source": [
    "import pandas as pd\n",
    "import numpy as np\n",
    "import matplotlib.pyplot as plt\n",
    "import seaborn as sns\n",
    "from sklearn.pipeline import make_pipeline, Pipeline\n",
    "from sklearn.preprocessing import RobustScaler\n",
    "from sklearn.ensemble import GradientBoostingRegressor\n",
    "from sklearn.model_selection import GridSearchCV\n",
    "from lightgbm import LGBMRegressor\n",
    "from sklearn.metrics import mean_squared_error\n",
    "from sklearn.ensemble import RandomForestRegressor\n",
    "from scipy.stats import skew\n",
    "from scipy.special import boxcox1p\n",
    "from scipy.stats import boxcox_normmax"
   ]
  },
  {
   "cell_type": "code",
   "execution_count": 2,
   "metadata": {},
   "outputs": [],
   "source": [
    "train = pd.read_csv(\"Data_Train#.csv\")\n",
    "test = pd.read_csv(\"Data_Test#.csv\")"
   ]
  },
  {
   "cell_type": "code",
   "execution_count": 3,
   "metadata": {
    "scrolled": true
   },
   "outputs": [
    {
     "data": {
      "text/html": [
       "<div>\n",
       "<style scoped>\n",
       "    .dataframe tbody tr th:only-of-type {\n",
       "        vertical-align: middle;\n",
       "    }\n",
       "\n",
       "    .dataframe tbody tr th {\n",
       "        vertical-align: top;\n",
       "    }\n",
       "\n",
       "    .dataframe thead th {\n",
       "        text-align: right;\n",
       "    }\n",
       "</style>\n",
       "<table border=\"1\" class=\"dataframe\">\n",
       "  <thead>\n",
       "    <tr style=\"text-align: right;\">\n",
       "      <th></th>\n",
       "      <th>Name</th>\n",
       "      <th>Location</th>\n",
       "      <th>Year</th>\n",
       "      <th>Kilometers_Driven</th>\n",
       "      <th>Fuel_Type</th>\n",
       "      <th>Transmission</th>\n",
       "      <th>Owner_Type</th>\n",
       "      <th>Mileage</th>\n",
       "      <th>Engine</th>\n",
       "      <th>Power</th>\n",
       "      <th>Seats</th>\n",
       "      <th>New_Price</th>\n",
       "      <th>Price</th>\n",
       "    </tr>\n",
       "  </thead>\n",
       "  <tbody>\n",
       "    <tr>\n",
       "      <th>0</th>\n",
       "      <td>Maruti Wagon R LXI CNG</td>\n",
       "      <td>Mumbai</td>\n",
       "      <td>2010</td>\n",
       "      <td>72000</td>\n",
       "      <td>CNG</td>\n",
       "      <td>Manual</td>\n",
       "      <td>First</td>\n",
       "      <td>26.6 km/kg</td>\n",
       "      <td>998 CC</td>\n",
       "      <td>58.16 bhp</td>\n",
       "      <td>5.0</td>\n",
       "      <td>NaN</td>\n",
       "      <td>1.75</td>\n",
       "    </tr>\n",
       "    <tr>\n",
       "      <th>1</th>\n",
       "      <td>Hyundai Creta 1.6 CRDi SX Option</td>\n",
       "      <td>Pune</td>\n",
       "      <td>2015</td>\n",
       "      <td>41000</td>\n",
       "      <td>Diesel</td>\n",
       "      <td>Manual</td>\n",
       "      <td>First</td>\n",
       "      <td>19.67 kmpl</td>\n",
       "      <td>1582 CC</td>\n",
       "      <td>126.2 bhp</td>\n",
       "      <td>5.0</td>\n",
       "      <td>NaN</td>\n",
       "      <td>12.50</td>\n",
       "    </tr>\n",
       "    <tr>\n",
       "      <th>2</th>\n",
       "      <td>Honda Jazz V</td>\n",
       "      <td>Chennai</td>\n",
       "      <td>2011</td>\n",
       "      <td>46000</td>\n",
       "      <td>Petrol</td>\n",
       "      <td>Manual</td>\n",
       "      <td>First</td>\n",
       "      <td>18.2 kmpl</td>\n",
       "      <td>1199 CC</td>\n",
       "      <td>88.7 bhp</td>\n",
       "      <td>5.0</td>\n",
       "      <td>8.61 Lakh</td>\n",
       "      <td>4.50</td>\n",
       "    </tr>\n",
       "    <tr>\n",
       "      <th>3</th>\n",
       "      <td>Maruti Ertiga VDI</td>\n",
       "      <td>Chennai</td>\n",
       "      <td>2012</td>\n",
       "      <td>87000</td>\n",
       "      <td>Diesel</td>\n",
       "      <td>Manual</td>\n",
       "      <td>First</td>\n",
       "      <td>20.77 kmpl</td>\n",
       "      <td>1248 CC</td>\n",
       "      <td>88.76 bhp</td>\n",
       "      <td>7.0</td>\n",
       "      <td>NaN</td>\n",
       "      <td>6.00</td>\n",
       "    </tr>\n",
       "    <tr>\n",
       "      <th>4</th>\n",
       "      <td>Audi A4 New 2.0 TDI Multitronic</td>\n",
       "      <td>Coimbatore</td>\n",
       "      <td>2013</td>\n",
       "      <td>40670</td>\n",
       "      <td>Diesel</td>\n",
       "      <td>Automatic</td>\n",
       "      <td>Second</td>\n",
       "      <td>15.2 kmpl</td>\n",
       "      <td>1968 CC</td>\n",
       "      <td>140.8 bhp</td>\n",
       "      <td>5.0</td>\n",
       "      <td>NaN</td>\n",
       "      <td>17.74</td>\n",
       "    </tr>\n",
       "  </tbody>\n",
       "</table>\n",
       "</div>"
      ],
      "text/plain": [
       "                               Name    Location  Year  Kilometers_Driven  \\\n",
       "0            Maruti Wagon R LXI CNG      Mumbai  2010              72000   \n",
       "1  Hyundai Creta 1.6 CRDi SX Option        Pune  2015              41000   \n",
       "2                      Honda Jazz V     Chennai  2011              46000   \n",
       "3                 Maruti Ertiga VDI     Chennai  2012              87000   \n",
       "4   Audi A4 New 2.0 TDI Multitronic  Coimbatore  2013              40670   \n",
       "\n",
       "  Fuel_Type Transmission Owner_Type     Mileage   Engine      Power  Seats  \\\n",
       "0       CNG       Manual      First  26.6 km/kg   998 CC  58.16 bhp    5.0   \n",
       "1    Diesel       Manual      First  19.67 kmpl  1582 CC  126.2 bhp    5.0   \n",
       "2    Petrol       Manual      First   18.2 kmpl  1199 CC   88.7 bhp    5.0   \n",
       "3    Diesel       Manual      First  20.77 kmpl  1248 CC  88.76 bhp    7.0   \n",
       "4    Diesel    Automatic     Second   15.2 kmpl  1968 CC  140.8 bhp    5.0   \n",
       "\n",
       "   New_Price  Price  \n",
       "0        NaN   1.75  \n",
       "1        NaN  12.50  \n",
       "2  8.61 Lakh   4.50  \n",
       "3        NaN   6.00  \n",
       "4        NaN  17.74  "
      ]
     },
     "execution_count": 3,
     "metadata": {},
     "output_type": "execute_result"
    }
   ],
   "source": [
    "train.head()"
   ]
  },
  {
   "cell_type": "code",
   "execution_count": 4,
   "metadata": {},
   "outputs": [
    {
     "data": {
      "text/html": [
       "<div>\n",
       "<style scoped>\n",
       "    .dataframe tbody tr th:only-of-type {\n",
       "        vertical-align: middle;\n",
       "    }\n",
       "\n",
       "    .dataframe tbody tr th {\n",
       "        vertical-align: top;\n",
       "    }\n",
       "\n",
       "    .dataframe thead th {\n",
       "        text-align: right;\n",
       "    }\n",
       "</style>\n",
       "<table border=\"1\" class=\"dataframe\">\n",
       "  <thead>\n",
       "    <tr style=\"text-align: right;\">\n",
       "      <th></th>\n",
       "      <th>Name</th>\n",
       "      <th>Location</th>\n",
       "      <th>Year</th>\n",
       "      <th>Kilometers_Driven</th>\n",
       "      <th>Fuel_Type</th>\n",
       "      <th>Transmission</th>\n",
       "      <th>Owner_Type</th>\n",
       "      <th>Mileage</th>\n",
       "      <th>Engine</th>\n",
       "      <th>Power</th>\n",
       "      <th>Seats</th>\n",
       "      <th>New_Price</th>\n",
       "    </tr>\n",
       "  </thead>\n",
       "  <tbody>\n",
       "    <tr>\n",
       "      <th>0</th>\n",
       "      <td>Maruti Alto K10 LXI CNG</td>\n",
       "      <td>Delhi</td>\n",
       "      <td>2014</td>\n",
       "      <td>40929</td>\n",
       "      <td>CNG</td>\n",
       "      <td>Manual</td>\n",
       "      <td>First</td>\n",
       "      <td>32.26 km/kg</td>\n",
       "      <td>998 CC</td>\n",
       "      <td>58.2 bhp</td>\n",
       "      <td>4.0</td>\n",
       "      <td>NaN</td>\n",
       "    </tr>\n",
       "    <tr>\n",
       "      <th>1</th>\n",
       "      <td>Maruti Alto 800 2016-2019 LXI</td>\n",
       "      <td>Coimbatore</td>\n",
       "      <td>2013</td>\n",
       "      <td>54493</td>\n",
       "      <td>Petrol</td>\n",
       "      <td>Manual</td>\n",
       "      <td>Second</td>\n",
       "      <td>24.7 kmpl</td>\n",
       "      <td>796 CC</td>\n",
       "      <td>47.3 bhp</td>\n",
       "      <td>5.0</td>\n",
       "      <td>NaN</td>\n",
       "    </tr>\n",
       "    <tr>\n",
       "      <th>2</th>\n",
       "      <td>Toyota Innova Crysta Touring Sport 2.4 MT</td>\n",
       "      <td>Mumbai</td>\n",
       "      <td>2017</td>\n",
       "      <td>34000</td>\n",
       "      <td>Diesel</td>\n",
       "      <td>Manual</td>\n",
       "      <td>First</td>\n",
       "      <td>13.68 kmpl</td>\n",
       "      <td>2393 CC</td>\n",
       "      <td>147.8 bhp</td>\n",
       "      <td>7.0</td>\n",
       "      <td>25.27 Lakh</td>\n",
       "    </tr>\n",
       "    <tr>\n",
       "      <th>3</th>\n",
       "      <td>Toyota Etios Liva GD</td>\n",
       "      <td>Hyderabad</td>\n",
       "      <td>2012</td>\n",
       "      <td>139000</td>\n",
       "      <td>Diesel</td>\n",
       "      <td>Manual</td>\n",
       "      <td>First</td>\n",
       "      <td>23.59 kmpl</td>\n",
       "      <td>1364 CC</td>\n",
       "      <td>null bhp</td>\n",
       "      <td>5.0</td>\n",
       "      <td>NaN</td>\n",
       "    </tr>\n",
       "    <tr>\n",
       "      <th>4</th>\n",
       "      <td>Hyundai i20 Magna</td>\n",
       "      <td>Mumbai</td>\n",
       "      <td>2014</td>\n",
       "      <td>29000</td>\n",
       "      <td>Petrol</td>\n",
       "      <td>Manual</td>\n",
       "      <td>First</td>\n",
       "      <td>18.5 kmpl</td>\n",
       "      <td>1197 CC</td>\n",
       "      <td>82.85 bhp</td>\n",
       "      <td>5.0</td>\n",
       "      <td>NaN</td>\n",
       "    </tr>\n",
       "  </tbody>\n",
       "</table>\n",
       "</div>"
      ],
      "text/plain": [
       "                                        Name    Location  Year  \\\n",
       "0                    Maruti Alto K10 LXI CNG       Delhi  2014   \n",
       "1              Maruti Alto 800 2016-2019 LXI  Coimbatore  2013   \n",
       "2  Toyota Innova Crysta Touring Sport 2.4 MT      Mumbai  2017   \n",
       "3                       Toyota Etios Liva GD   Hyderabad  2012   \n",
       "4                          Hyundai i20 Magna      Mumbai  2014   \n",
       "\n",
       "   Kilometers_Driven Fuel_Type Transmission Owner_Type      Mileage   Engine  \\\n",
       "0              40929       CNG       Manual      First  32.26 km/kg   998 CC   \n",
       "1              54493    Petrol       Manual     Second    24.7 kmpl   796 CC   \n",
       "2              34000    Diesel       Manual      First   13.68 kmpl  2393 CC   \n",
       "3             139000    Diesel       Manual      First   23.59 kmpl  1364 CC   \n",
       "4              29000    Petrol       Manual      First    18.5 kmpl  1197 CC   \n",
       "\n",
       "       Power  Seats   New_Price  \n",
       "0   58.2 bhp    4.0         NaN  \n",
       "1   47.3 bhp    5.0         NaN  \n",
       "2  147.8 bhp    7.0  25.27 Lakh  \n",
       "3   null bhp    5.0         NaN  \n",
       "4  82.85 bhp    5.0         NaN  "
      ]
     },
     "execution_count": 4,
     "metadata": {},
     "output_type": "execute_result"
    }
   ],
   "source": [
    "test.head()"
   ]
  },
  {
   "cell_type": "code",
   "execution_count": 5,
   "metadata": {},
   "outputs": [
    {
     "data": {
      "text/plain": [
       "(6019, 13)"
      ]
     },
     "execution_count": 5,
     "metadata": {},
     "output_type": "execute_result"
    }
   ],
   "source": [
    "train.shape"
   ]
  },
  {
   "cell_type": "code",
   "execution_count": 6,
   "metadata": {},
   "outputs": [
    {
     "data": {
      "text/plain": [
       "Index(['Name', 'Location', 'Year', 'Kilometers_Driven', 'Fuel_Type',\n",
       "       'Transmission', 'Owner_Type', 'Mileage', 'Engine', 'Power', 'Seats',\n",
       "       'New_Price', 'Price'],\n",
       "      dtype='object')"
      ]
     },
     "execution_count": 6,
     "metadata": {},
     "output_type": "execute_result"
    }
   ],
   "source": [
    "train.columns"
   ]
  },
  {
   "cell_type": "code",
   "execution_count": 7,
   "metadata": {},
   "outputs": [
    {
     "name": "stdout",
     "output_type": "stream",
     "text": [
      "<class 'pandas.core.frame.DataFrame'>\n",
      "RangeIndex: 6019 entries, 0 to 6018\n",
      "Data columns (total 13 columns):\n",
      " #   Column             Non-Null Count  Dtype  \n",
      "---  ------             --------------  -----  \n",
      " 0   Name               6019 non-null   object \n",
      " 1   Location           6019 non-null   object \n",
      " 2   Year               6019 non-null   int64  \n",
      " 3   Kilometers_Driven  6019 non-null   int64  \n",
      " 4   Fuel_Type          6019 non-null   object \n",
      " 5   Transmission       6019 non-null   object \n",
      " 6   Owner_Type         6019 non-null   object \n",
      " 7   Mileage            6017 non-null   object \n",
      " 8   Engine             5983 non-null   object \n",
      " 9   Power              5983 non-null   object \n",
      " 10  Seats              5977 non-null   float64\n",
      " 11  New_Price          824 non-null    object \n",
      " 12  Price              6019 non-null   float64\n",
      "dtypes: float64(2), int64(2), object(9)\n",
      "memory usage: 611.4+ KB\n"
     ]
    }
   ],
   "source": [
    "train.info()"
   ]
  },
  {
   "cell_type": "code",
   "execution_count": 8,
   "metadata": {},
   "outputs": [
    {
     "name": "stdout",
     "output_type": "stream",
     "text": [
      "<class 'pandas.core.frame.DataFrame'>\n",
      "RangeIndex: 1234 entries, 0 to 1233\n",
      "Data columns (total 12 columns):\n",
      " #   Column             Non-Null Count  Dtype  \n",
      "---  ------             --------------  -----  \n",
      " 0   Name               1234 non-null   object \n",
      " 1   Location           1234 non-null   object \n",
      " 2   Year               1234 non-null   int64  \n",
      " 3   Kilometers_Driven  1234 non-null   int64  \n",
      " 4   Fuel_Type          1234 non-null   object \n",
      " 5   Transmission       1234 non-null   object \n",
      " 6   Owner_Type         1234 non-null   object \n",
      " 7   Mileage            1234 non-null   object \n",
      " 8   Engine             1224 non-null   object \n",
      " 9   Power              1224 non-null   object \n",
      " 10  Seats              1223 non-null   float64\n",
      " 11  New_Price          182 non-null    object \n",
      "dtypes: float64(1), int64(2), object(9)\n",
      "memory usage: 115.8+ KB\n"
     ]
    }
   ],
   "source": [
    "test.info()"
   ]
  },
  {
   "cell_type": "code",
   "execution_count": 9,
   "metadata": {},
   "outputs": [
    {
     "data": {
      "text/plain": [
       "Name                  object\n",
       "Location              object\n",
       "Year                   int64\n",
       "Kilometers_Driven      int64\n",
       "Fuel_Type             object\n",
       "Transmission          object\n",
       "Owner_Type            object\n",
       "Mileage               object\n",
       "Engine                object\n",
       "Power                 object\n",
       "Seats                float64\n",
       "New_Price             object\n",
       "Price                float64\n",
       "dtype: object"
      ]
     },
     "execution_count": 9,
     "metadata": {},
     "output_type": "execute_result"
    }
   ],
   "source": [
    "train.dtypes"
   ]
  },
  {
   "cell_type": "markdown",
   "metadata": {},
   "source": [
    "# Data Cleaning of Power"
   ]
  },
  {
   "cell_type": "code",
   "execution_count": 10,
   "metadata": {},
   "outputs": [],
   "source": [
    "a=[]\n",
    "for i in train['Power']:\n",
    "    a.append(str(i).split(' ')[0])"
   ]
  },
  {
   "cell_type": "code",
   "execution_count": 11,
   "metadata": {},
   "outputs": [],
   "source": [
    "train['Power']=a"
   ]
  },
  {
   "cell_type": "code",
   "execution_count": 12,
   "metadata": {},
   "outputs": [],
   "source": [
    "train['Power']=train['Power'].replace('null',np.nan)"
   ]
  },
  {
   "cell_type": "code",
   "execution_count": 13,
   "metadata": {},
   "outputs": [],
   "source": [
    "train['Power']=train['Power'].fillna(train['Power'].median())"
   ]
  },
  {
   "cell_type": "code",
   "execution_count": 14,
   "metadata": {},
   "outputs": [
    {
     "data": {
      "text/plain": [
       "0"
      ]
     },
     "execution_count": 14,
     "metadata": {},
     "output_type": "execute_result"
    }
   ],
   "source": [
    "train['Power'].isnull().sum()"
   ]
  },
  {
   "cell_type": "code",
   "execution_count": 15,
   "metadata": {},
   "outputs": [],
   "source": [
    "train['Power']=train['Power'].astype('float64')"
   ]
  },
  {
   "cell_type": "code",
   "execution_count": 16,
   "metadata": {},
   "outputs": [],
   "source": [
    "z=[]\n",
    "for i in test['Power']:\n",
    "    z.append(str(i).split(' ')[0])"
   ]
  },
  {
   "cell_type": "code",
   "execution_count": 17,
   "metadata": {},
   "outputs": [],
   "source": [
    "test['Power']=z"
   ]
  },
  {
   "cell_type": "code",
   "execution_count": 18,
   "metadata": {},
   "outputs": [],
   "source": [
    "test['Power']=test['Power'].replace('null',np.nan)"
   ]
  },
  {
   "cell_type": "code",
   "execution_count": 19,
   "metadata": {},
   "outputs": [],
   "source": [
    "test['Power']=test['Power'].fillna(test['Power'].median())"
   ]
  },
  {
   "cell_type": "code",
   "execution_count": 20,
   "metadata": {},
   "outputs": [
    {
     "data": {
      "text/plain": [
       "0"
      ]
     },
     "execution_count": 20,
     "metadata": {},
     "output_type": "execute_result"
    }
   ],
   "source": [
    "test['Power'].isnull().sum()"
   ]
  },
  {
   "cell_type": "code",
   "execution_count": 21,
   "metadata": {},
   "outputs": [],
   "source": [
    "test['Power']=test['Power'].astype('float64')"
   ]
  },
  {
   "cell_type": "markdown",
   "metadata": {},
   "source": [
    "# Data cleaning of Engine"
   ]
  },
  {
   "cell_type": "code",
   "execution_count": 22,
   "metadata": {},
   "outputs": [],
   "source": [
    "train['Engine']=train['Engine'].replace('null',np.nan)"
   ]
  },
  {
   "cell_type": "code",
   "execution_count": 23,
   "metadata": {},
   "outputs": [
    {
     "data": {
      "text/plain": [
       "36"
      ]
     },
     "execution_count": 23,
     "metadata": {},
     "output_type": "execute_result"
    }
   ],
   "source": [
    "train['Engine'].isnull().sum()"
   ]
  },
  {
   "cell_type": "code",
   "execution_count": 24,
   "metadata": {
    "scrolled": true
   },
   "outputs": [],
   "source": [
    "train['Engine'] = train['Engine'].fillna(train['Engine'].mode()[0])"
   ]
  },
  {
   "cell_type": "code",
   "execution_count": 25,
   "metadata": {},
   "outputs": [],
   "source": [
    "train['Engine'] = train.Engine.str.replace('CC', '').astype(float)"
   ]
  },
  {
   "cell_type": "code",
   "execution_count": 26,
   "metadata": {},
   "outputs": [],
   "source": [
    "test['Engine']=test['Engine'].replace('null',np.nan)"
   ]
  },
  {
   "cell_type": "code",
   "execution_count": 27,
   "metadata": {},
   "outputs": [
    {
     "data": {
      "text/plain": [
       "10"
      ]
     },
     "execution_count": 27,
     "metadata": {},
     "output_type": "execute_result"
    }
   ],
   "source": [
    "test['Engine'].isnull().sum()"
   ]
  },
  {
   "cell_type": "code",
   "execution_count": 28,
   "metadata": {},
   "outputs": [],
   "source": [
    "test['Engine'] = test['Engine'].fillna(test['Engine'].mode()[0])"
   ]
  },
  {
   "cell_type": "code",
   "execution_count": 29,
   "metadata": {},
   "outputs": [],
   "source": [
    "test['Engine'] = test.Engine.str.replace('CC', '').astype(float)"
   ]
  },
  {
   "cell_type": "markdown",
   "metadata": {},
   "source": [
    "# Data cleaning of Seat Colmun"
   ]
  },
  {
   "cell_type": "code",
   "execution_count": 30,
   "metadata": {},
   "outputs": [
    {
     "data": {
      "text/plain": [
       "42"
      ]
     },
     "execution_count": 30,
     "metadata": {},
     "output_type": "execute_result"
    }
   ],
   "source": [
    "train.Seats.isnull().sum()"
   ]
  },
  {
   "cell_type": "code",
   "execution_count": 31,
   "metadata": {},
   "outputs": [
    {
     "data": {
      "text/plain": [
       "5.0     5014\n",
       "7.0      674\n",
       "8.0      134\n",
       "4.0       99\n",
       "6.0       31\n",
       "2.0       16\n",
       "10.0       5\n",
       "9.0        3\n",
       "0.0        1\n",
       "Name: Seats, dtype: int64"
      ]
     },
     "execution_count": 31,
     "metadata": {},
     "output_type": "execute_result"
    }
   ],
   "source": [
    "train.Seats.value_counts()"
   ]
  },
  {
   "cell_type": "code",
   "execution_count": 32,
   "metadata": {},
   "outputs": [
    {
     "data": {
      "text/plain": [
       "array([ 5.,  7.,  8.,  4.,  6.,  2., nan, 10.,  9.,  0.])"
      ]
     },
     "execution_count": 32,
     "metadata": {},
     "output_type": "execute_result"
    }
   ],
   "source": [
    "train.Seats.unique()"
   ]
  },
  {
   "cell_type": "code",
   "execution_count": 33,
   "metadata": {},
   "outputs": [
    {
     "data": {
      "text/plain": [
       "count    5977.000000\n",
       "mean        5.278735\n",
       "std         0.808840\n",
       "min         0.000000\n",
       "25%         5.000000\n",
       "50%         5.000000\n",
       "75%         5.000000\n",
       "max        10.000000\n",
       "Name: Seats, dtype: float64"
      ]
     },
     "execution_count": 33,
     "metadata": {},
     "output_type": "execute_result"
    }
   ],
   "source": [
    "train.Seats.describe()"
   ]
  },
  {
   "cell_type": "code",
   "execution_count": 34,
   "metadata": {},
   "outputs": [],
   "source": [
    "train['Seats']=train['Seats'].fillna(train['Seats'].mode()[0])"
   ]
  },
  {
   "cell_type": "code",
   "execution_count": 35,
   "metadata": {},
   "outputs": [],
   "source": [
    "test['Seats']=test['Seats'].fillna(test['Seats'].mode()[0])"
   ]
  },
  {
   "cell_type": "markdown",
   "metadata": {},
   "source": [
    "# Data cleaning of Mileage Colmun"
   ]
  },
  {
   "cell_type": "code",
   "execution_count": 36,
   "metadata": {},
   "outputs": [
    {
     "data": {
      "text/plain": [
       "2"
      ]
     },
     "execution_count": 36,
     "metadata": {},
     "output_type": "execute_result"
    }
   ],
   "source": [
    "train.Mileage.isnull().sum()"
   ]
  },
  {
   "cell_type": "code",
   "execution_count": 37,
   "metadata": {},
   "outputs": [],
   "source": [
    "f=[]\n",
    "for i in train['Mileage']:\n",
    "    f.append (str(i).split(' ')[0])"
   ]
  },
  {
   "cell_type": "code",
   "execution_count": 38,
   "metadata": {},
   "outputs": [],
   "source": [
    "train['Mileage']=f"
   ]
  },
  {
   "cell_type": "code",
   "execution_count": 39,
   "metadata": {
    "scrolled": false
   },
   "outputs": [],
   "source": [
    "train['Mileage'] = train.Mileage.astype(float)"
   ]
  },
  {
   "cell_type": "code",
   "execution_count": 40,
   "metadata": {},
   "outputs": [],
   "source": [
    "train['Mileage'] = train['Mileage'].fillna(train['Mileage'].median())"
   ]
  },
  {
   "cell_type": "code",
   "execution_count": 41,
   "metadata": {},
   "outputs": [],
   "source": [
    "e=[]\n",
    "for i in test['Mileage']:\n",
    "    e.append (str(i).split(' ')[0])"
   ]
  },
  {
   "cell_type": "code",
   "execution_count": 42,
   "metadata": {},
   "outputs": [],
   "source": [
    "test['Mileage']=e"
   ]
  },
  {
   "cell_type": "code",
   "execution_count": 43,
   "metadata": {},
   "outputs": [],
   "source": [
    "test['Mileage'] = test.Mileage.astype(float)"
   ]
  },
  {
   "cell_type": "code",
   "execution_count": 44,
   "metadata": {},
   "outputs": [],
   "source": [
    "test['Mileage'] = test['Mileage'].fillna(test['Mileage'].median())"
   ]
  },
  {
   "cell_type": "markdown",
   "metadata": {},
   "source": [
    "# Cleaning data of Name column"
   ]
  },
  {
   "cell_type": "code",
   "execution_count": 45,
   "metadata": {},
   "outputs": [],
   "source": [
    "names = list(train.Name)\n",
    "brand = []\n",
    "model = []\n",
    "for i in range(len(names)):\n",
    "   try:\n",
    "       brand.append(names[i].split(\" \")[0].strip())\n",
    "       try:\n",
    "           model.append(\" \".join(names[i].split(\" \")[1:]).strip())\n",
    "       except:\n",
    "           pass\n",
    "   except:\n",
    "       print(\"ERR ! - \", names[i], \"@\" , i)\n",
    "train[\"Brand\"] =  brand\n",
    "train[\"Model\"] = model\n",
    "train.drop(labels = ['Name'], axis = 1, inplace = True)\n"
   ]
  },
  {
   "cell_type": "code",
   "execution_count": 46,
   "metadata": {},
   "outputs": [],
   "source": [
    "names = list(test.Name)\n",
    "brand = []\n",
    "model = []\n",
    "for i in range(len(names)):\n",
    "   try:\n",
    "       brand.append(names[i].split(\" \")[0].strip())\n",
    "       try:\n",
    "           model.append(\" \".join(names[i].split(\" \")[1:]).strip())\n",
    "       except:\n",
    "           pass\n",
    "   except:\n",
    "       print(\"ERR ! - \", names[i], \"@\" , i)\n",
    "test[\"Brand\"] =  brand\n",
    "test[\"Model\"] = model\n",
    "test.drop(labels = ['Name'], axis = 1, inplace = True)\n"
   ]
  },
  {
   "cell_type": "code",
   "execution_count": 47,
   "metadata": {},
   "outputs": [],
   "source": [
    "train.drop(labels = ['New_Price'], axis = 1, inplace = True)\n",
    "test.drop(labels = ['New_Price'], axis = 1, inplace = True)"
   ]
  },
  {
   "cell_type": "markdown",
   "metadata": {},
   "source": [
    "# Re-ordering Data-set"
   ]
  },
  {
   "cell_type": "code",
   "execution_count": 48,
   "metadata": {},
   "outputs": [],
   "source": [
    "train= train[['Brand', 'Model', 'Location', 'Year', 'Kilometers_Driven', 'Fuel_Type', 'Transmission',\n",
    "      'Owner_Type', 'Mileage', 'Engine', 'Power', 'Seats', 'Price']]\n",
    "test= test[['Brand', 'Model', 'Location', 'Year', 'Kilometers_Driven', 'Fuel_Type', 'Transmission',\n",
    "      'Owner_Type', 'Mileage', 'Engine', 'Power', 'Seats']]"
   ]
  },
  {
   "cell_type": "code",
   "execution_count": 49,
   "metadata": {},
   "outputs": [
    {
     "data": {
      "text/html": [
       "<div>\n",
       "<style scoped>\n",
       "    .dataframe tbody tr th:only-of-type {\n",
       "        vertical-align: middle;\n",
       "    }\n",
       "\n",
       "    .dataframe tbody tr th {\n",
       "        vertical-align: top;\n",
       "    }\n",
       "\n",
       "    .dataframe thead th {\n",
       "        text-align: right;\n",
       "    }\n",
       "</style>\n",
       "<table border=\"1\" class=\"dataframe\">\n",
       "  <thead>\n",
       "    <tr style=\"text-align: right;\">\n",
       "      <th></th>\n",
       "      <th>Brand</th>\n",
       "      <th>Model</th>\n",
       "      <th>Location</th>\n",
       "      <th>Year</th>\n",
       "      <th>Kilometers_Driven</th>\n",
       "      <th>Fuel_Type</th>\n",
       "      <th>Transmission</th>\n",
       "      <th>Owner_Type</th>\n",
       "      <th>Mileage</th>\n",
       "      <th>Engine</th>\n",
       "      <th>Power</th>\n",
       "      <th>Seats</th>\n",
       "      <th>Price</th>\n",
       "    </tr>\n",
       "  </thead>\n",
       "  <tbody>\n",
       "    <tr>\n",
       "      <th>0</th>\n",
       "      <td>Maruti</td>\n",
       "      <td>Wagon R LXI CNG</td>\n",
       "      <td>Mumbai</td>\n",
       "      <td>2010</td>\n",
       "      <td>72000</td>\n",
       "      <td>CNG</td>\n",
       "      <td>Manual</td>\n",
       "      <td>First</td>\n",
       "      <td>26.60</td>\n",
       "      <td>998.0</td>\n",
       "      <td>58.16</td>\n",
       "      <td>5.0</td>\n",
       "      <td>1.75</td>\n",
       "    </tr>\n",
       "    <tr>\n",
       "      <th>1</th>\n",
       "      <td>Hyundai</td>\n",
       "      <td>Creta 1.6 CRDi SX Option</td>\n",
       "      <td>Pune</td>\n",
       "      <td>2015</td>\n",
       "      <td>41000</td>\n",
       "      <td>Diesel</td>\n",
       "      <td>Manual</td>\n",
       "      <td>First</td>\n",
       "      <td>19.67</td>\n",
       "      <td>1582.0</td>\n",
       "      <td>126.20</td>\n",
       "      <td>5.0</td>\n",
       "      <td>12.50</td>\n",
       "    </tr>\n",
       "    <tr>\n",
       "      <th>2</th>\n",
       "      <td>Honda</td>\n",
       "      <td>Jazz V</td>\n",
       "      <td>Chennai</td>\n",
       "      <td>2011</td>\n",
       "      <td>46000</td>\n",
       "      <td>Petrol</td>\n",
       "      <td>Manual</td>\n",
       "      <td>First</td>\n",
       "      <td>18.20</td>\n",
       "      <td>1199.0</td>\n",
       "      <td>88.70</td>\n",
       "      <td>5.0</td>\n",
       "      <td>4.50</td>\n",
       "    </tr>\n",
       "    <tr>\n",
       "      <th>3</th>\n",
       "      <td>Maruti</td>\n",
       "      <td>Ertiga VDI</td>\n",
       "      <td>Chennai</td>\n",
       "      <td>2012</td>\n",
       "      <td>87000</td>\n",
       "      <td>Diesel</td>\n",
       "      <td>Manual</td>\n",
       "      <td>First</td>\n",
       "      <td>20.77</td>\n",
       "      <td>1248.0</td>\n",
       "      <td>88.76</td>\n",
       "      <td>7.0</td>\n",
       "      <td>6.00</td>\n",
       "    </tr>\n",
       "    <tr>\n",
       "      <th>4</th>\n",
       "      <td>Audi</td>\n",
       "      <td>A4 New 2.0 TDI Multitronic</td>\n",
       "      <td>Coimbatore</td>\n",
       "      <td>2013</td>\n",
       "      <td>40670</td>\n",
       "      <td>Diesel</td>\n",
       "      <td>Automatic</td>\n",
       "      <td>Second</td>\n",
       "      <td>15.20</td>\n",
       "      <td>1968.0</td>\n",
       "      <td>140.80</td>\n",
       "      <td>5.0</td>\n",
       "      <td>17.74</td>\n",
       "    </tr>\n",
       "  </tbody>\n",
       "</table>\n",
       "</div>"
      ],
      "text/plain": [
       "     Brand                       Model    Location  Year  Kilometers_Driven  \\\n",
       "0   Maruti             Wagon R LXI CNG      Mumbai  2010              72000   \n",
       "1  Hyundai    Creta 1.6 CRDi SX Option        Pune  2015              41000   \n",
       "2    Honda                      Jazz V     Chennai  2011              46000   \n",
       "3   Maruti                  Ertiga VDI     Chennai  2012              87000   \n",
       "4     Audi  A4 New 2.0 TDI Multitronic  Coimbatore  2013              40670   \n",
       "\n",
       "  Fuel_Type Transmission Owner_Type  Mileage  Engine   Power  Seats  Price  \n",
       "0       CNG       Manual      First    26.60   998.0   58.16    5.0   1.75  \n",
       "1    Diesel       Manual      First    19.67  1582.0  126.20    5.0  12.50  \n",
       "2    Petrol       Manual      First    18.20  1199.0   88.70    5.0   4.50  \n",
       "3    Diesel       Manual      First    20.77  1248.0   88.76    7.0   6.00  \n",
       "4    Diesel    Automatic     Second    15.20  1968.0  140.80    5.0  17.74  "
      ]
     },
     "execution_count": 49,
     "metadata": {},
     "output_type": "execute_result"
    }
   ],
   "source": [
    "train.head()"
   ]
  },
  {
   "cell_type": "code",
   "execution_count": 50,
   "metadata": {},
   "outputs": [
    {
     "data": {
      "text/html": [
       "<div>\n",
       "<style scoped>\n",
       "    .dataframe tbody tr th:only-of-type {\n",
       "        vertical-align: middle;\n",
       "    }\n",
       "\n",
       "    .dataframe tbody tr th {\n",
       "        vertical-align: top;\n",
       "    }\n",
       "\n",
       "    .dataframe thead th {\n",
       "        text-align: right;\n",
       "    }\n",
       "</style>\n",
       "<table border=\"1\" class=\"dataframe\">\n",
       "  <thead>\n",
       "    <tr style=\"text-align: right;\">\n",
       "      <th></th>\n",
       "      <th>Brand</th>\n",
       "      <th>Model</th>\n",
       "      <th>Location</th>\n",
       "      <th>Year</th>\n",
       "      <th>Kilometers_Driven</th>\n",
       "      <th>Fuel_Type</th>\n",
       "      <th>Transmission</th>\n",
       "      <th>Owner_Type</th>\n",
       "      <th>Mileage</th>\n",
       "      <th>Engine</th>\n",
       "      <th>Power</th>\n",
       "      <th>Seats</th>\n",
       "    </tr>\n",
       "  </thead>\n",
       "  <tbody>\n",
       "    <tr>\n",
       "      <th>0</th>\n",
       "      <td>Maruti</td>\n",
       "      <td>Alto K10 LXI CNG</td>\n",
       "      <td>Delhi</td>\n",
       "      <td>2014</td>\n",
       "      <td>40929</td>\n",
       "      <td>CNG</td>\n",
       "      <td>Manual</td>\n",
       "      <td>First</td>\n",
       "      <td>32.26</td>\n",
       "      <td>998.0</td>\n",
       "      <td>58.20</td>\n",
       "      <td>4.0</td>\n",
       "    </tr>\n",
       "    <tr>\n",
       "      <th>1</th>\n",
       "      <td>Maruti</td>\n",
       "      <td>Alto 800 2016-2019 LXI</td>\n",
       "      <td>Coimbatore</td>\n",
       "      <td>2013</td>\n",
       "      <td>54493</td>\n",
       "      <td>Petrol</td>\n",
       "      <td>Manual</td>\n",
       "      <td>Second</td>\n",
       "      <td>24.70</td>\n",
       "      <td>796.0</td>\n",
       "      <td>47.30</td>\n",
       "      <td>5.0</td>\n",
       "    </tr>\n",
       "    <tr>\n",
       "      <th>2</th>\n",
       "      <td>Toyota</td>\n",
       "      <td>Innova Crysta Touring Sport 2.4 MT</td>\n",
       "      <td>Mumbai</td>\n",
       "      <td>2017</td>\n",
       "      <td>34000</td>\n",
       "      <td>Diesel</td>\n",
       "      <td>Manual</td>\n",
       "      <td>First</td>\n",
       "      <td>13.68</td>\n",
       "      <td>2393.0</td>\n",
       "      <td>147.80</td>\n",
       "      <td>7.0</td>\n",
       "    </tr>\n",
       "    <tr>\n",
       "      <th>3</th>\n",
       "      <td>Toyota</td>\n",
       "      <td>Etios Liva GD</td>\n",
       "      <td>Hyderabad</td>\n",
       "      <td>2012</td>\n",
       "      <td>139000</td>\n",
       "      <td>Diesel</td>\n",
       "      <td>Manual</td>\n",
       "      <td>First</td>\n",
       "      <td>23.59</td>\n",
       "      <td>1364.0</td>\n",
       "      <td>93.70</td>\n",
       "      <td>5.0</td>\n",
       "    </tr>\n",
       "    <tr>\n",
       "      <th>4</th>\n",
       "      <td>Hyundai</td>\n",
       "      <td>i20 Magna</td>\n",
       "      <td>Mumbai</td>\n",
       "      <td>2014</td>\n",
       "      <td>29000</td>\n",
       "      <td>Petrol</td>\n",
       "      <td>Manual</td>\n",
       "      <td>First</td>\n",
       "      <td>18.50</td>\n",
       "      <td>1197.0</td>\n",
       "      <td>82.85</td>\n",
       "      <td>5.0</td>\n",
       "    </tr>\n",
       "  </tbody>\n",
       "</table>\n",
       "</div>"
      ],
      "text/plain": [
       "     Brand                               Model    Location  Year  \\\n",
       "0   Maruti                    Alto K10 LXI CNG       Delhi  2014   \n",
       "1   Maruti              Alto 800 2016-2019 LXI  Coimbatore  2013   \n",
       "2   Toyota  Innova Crysta Touring Sport 2.4 MT      Mumbai  2017   \n",
       "3   Toyota                       Etios Liva GD   Hyderabad  2012   \n",
       "4  Hyundai                           i20 Magna      Mumbai  2014   \n",
       "\n",
       "   Kilometers_Driven Fuel_Type Transmission Owner_Type  Mileage  Engine  \\\n",
       "0              40929       CNG       Manual      First    32.26   998.0   \n",
       "1              54493    Petrol       Manual     Second    24.70   796.0   \n",
       "2              34000    Diesel       Manual      First    13.68  2393.0   \n",
       "3             139000    Diesel       Manual      First    23.59  1364.0   \n",
       "4              29000    Petrol       Manual      First    18.50  1197.0   \n",
       "\n",
       "    Power  Seats  \n",
       "0   58.20    4.0  \n",
       "1   47.30    5.0  \n",
       "2  147.80    7.0  \n",
       "3   93.70    5.0  \n",
       "4   82.85    5.0  "
      ]
     },
     "execution_count": 50,
     "metadata": {},
     "output_type": "execute_result"
    }
   ],
   "source": [
    "test.head()"
   ]
  },
  {
   "cell_type": "code",
   "execution_count": 51,
   "metadata": {},
   "outputs": [
    {
     "name": "stdout",
     "output_type": "stream",
     "text": [
      "Unique values in Brand 31\n",
      "Unique values in Model 1876\n",
      "Unique values in Location 11\n",
      "Unique values in Year 22\n",
      "Unique values in Kilometers_Driven 3093\n",
      "Unique values in Fuel_Type 5\n",
      "Unique values in Transmission 2\n",
      "Unique values in Owner_Type 4\n",
      "Unique values in Mileage 430\n",
      "Unique values in Engine 146\n",
      "Unique values in Power 369\n",
      "Unique values in Seats 9\n",
      "Unique values in Price 1373\n"
     ]
    }
   ],
   "source": [
    "for i in train.columns:\n",
    "    print(\"Unique values in\", i, train[i].nunique())"
   ]
  },
  {
   "cell_type": "code",
   "execution_count": 52,
   "metadata": {
    "scrolled": false
   },
   "outputs": [
    {
     "name": "stdout",
     "output_type": "stream",
     "text": [
      "Unique values in Brand 29\n",
      "Unique values in Model 768\n",
      "Unique values in Location 11\n",
      "Unique values in Year 20\n",
      "Unique values in Kilometers_Driven 755\n",
      "Unique values in Fuel_Type 4\n",
      "Unique values in Transmission 2\n",
      "Unique values in Owner_Type 4\n",
      "Unique values in Mileage 298\n",
      "Unique values in Engine 104\n",
      "Unique values in Power 247\n",
      "Unique values in Seats 7\n"
     ]
    }
   ],
   "source": [
    "for i in test.columns:\n",
    "    print(\"Unique values in\", i, test[i].nunique())"
   ]
  },
  {
   "cell_type": "code",
   "execution_count": 53,
   "metadata": {},
   "outputs": [
    {
     "data": {
      "text/plain": [
       "Brand                 0\n",
       "Model                 0\n",
       "Location              0\n",
       "Year                  0\n",
       "Kilometers_Driven     0\n",
       "Fuel_Type             0\n",
       "Transmission          0\n",
       "Owner_Type            0\n",
       "Mileage               0\n",
       "Engine                0\n",
       "Power                36\n",
       "Seats                 0\n",
       "Price                 0\n",
       "dtype: int64"
      ]
     },
     "execution_count": 53,
     "metadata": {},
     "output_type": "execute_result"
    }
   ],
   "source": [
    "train.isnull().sum()"
   ]
  },
  {
   "cell_type": "code",
   "execution_count": 54,
   "metadata": {},
   "outputs": [
    {
     "data": {
      "text/plain": [
       "Brand                 0\n",
       "Model                 0\n",
       "Location              0\n",
       "Year                  0\n",
       "Kilometers_Driven     0\n",
       "Fuel_Type             0\n",
       "Transmission          0\n",
       "Owner_Type            0\n",
       "Mileage               0\n",
       "Engine                0\n",
       "Power                10\n",
       "Seats                 0\n",
       "dtype: int64"
      ]
     },
     "execution_count": 54,
     "metadata": {},
     "output_type": "execute_result"
    }
   ],
   "source": [
    "test.isnull().sum()"
   ]
  },
  {
   "cell_type": "code",
   "execution_count": 55,
   "metadata": {},
   "outputs": [
    {
     "data": {
      "text/plain": [
       "Maruti           1211\n",
       "Hyundai          1107\n",
       "Honda             608\n",
       "Toyota            411\n",
       "Mercedes-Benz     318\n",
       "Volkswagen        315\n",
       "Ford              300\n",
       "Mahindra          272\n",
       "BMW               267\n",
       "Audi              236\n",
       "Tata              186\n",
       "Skoda             173\n",
       "Renault           145\n",
       "Chevrolet         121\n",
       "Nissan             91\n",
       "Land               60\n",
       "Jaguar             40\n",
       "Fiat               28\n",
       "Mitsubishi         27\n",
       "Mini               26\n",
       "Volvo              21\n",
       "Porsche            18\n",
       "Jeep               15\n",
       "Datsun             13\n",
       "Force               3\n",
       "ISUZU               2\n",
       "Isuzu               1\n",
       "Smart               1\n",
       "Lamborghini         1\n",
       "Bentley             1\n",
       "Ambassador          1\n",
       "Name: Brand, dtype: int64"
      ]
     },
     "execution_count": 55,
     "metadata": {},
     "output_type": "execute_result"
    }
   ],
   "source": [
    "train.Brand.value_counts()"
   ]
  },
  {
   "cell_type": "code",
   "execution_count": 56,
   "metadata": {},
   "outputs": [
    {
     "data": {
      "text/plain": [
       "Mumbai        790\n",
       "Hyderabad     742\n",
       "Kochi         651\n",
       "Coimbatore    636\n",
       "Pune          622\n",
       "Delhi         554\n",
       "Kolkata       535\n",
       "Chennai       494\n",
       "Jaipur        413\n",
       "Bangalore     358\n",
       "Ahmedabad     224\n",
       "Name: Location, dtype: int64"
      ]
     },
     "execution_count": 56,
     "metadata": {},
     "output_type": "execute_result"
    }
   ],
   "source": [
    "train.Location.value_counts()"
   ]
  },
  {
   "cell_type": "code",
   "execution_count": 57,
   "metadata": {},
   "outputs": [
    {
     "data": {
      "text/plain": [
       "Diesel      3205\n",
       "Petrol      2746\n",
       "CNG           56\n",
       "LPG           10\n",
       "Electric       2\n",
       "Name: Fuel_Type, dtype: int64"
      ]
     },
     "execution_count": 57,
     "metadata": {},
     "output_type": "execute_result"
    }
   ],
   "source": [
    "train.Fuel_Type.value_counts()"
   ]
  },
  {
   "cell_type": "code",
   "execution_count": 58,
   "metadata": {},
   "outputs": [
    {
     "data": {
      "text/plain": [
       "Manual       4299\n",
       "Automatic    1720\n",
       "Name: Transmission, dtype: int64"
      ]
     },
     "execution_count": 58,
     "metadata": {},
     "output_type": "execute_result"
    }
   ],
   "source": [
    "train.Transmission.value_counts()"
   ]
  },
  {
   "cell_type": "code",
   "execution_count": 59,
   "metadata": {},
   "outputs": [
    {
     "data": {
      "text/plain": [
       "First             4929\n",
       "Second             968\n",
       "Third              113\n",
       "Fourth & Above       9\n",
       "Name: Owner_Type, dtype: int64"
      ]
     },
     "execution_count": 59,
     "metadata": {},
     "output_type": "execute_result"
    }
   ],
   "source": [
    "train.Owner_Type.value_counts()"
   ]
  },
  {
   "cell_type": "code",
   "execution_count": 60,
   "metadata": {},
   "outputs": [
    {
     "data": {
      "text/plain": [
       "5.0     5056\n",
       "7.0      674\n",
       "8.0      134\n",
       "4.0       99\n",
       "6.0       31\n",
       "2.0       16\n",
       "10.0       5\n",
       "9.0        3\n",
       "0.0        1\n",
       "Name: Seats, dtype: int64"
      ]
     },
     "execution_count": 60,
     "metadata": {},
     "output_type": "execute_result"
    }
   ],
   "source": [
    "train.Seats.value_counts()"
   ]
  },
  {
   "cell_type": "code",
   "execution_count": 61,
   "metadata": {
    "scrolled": true
   },
   "outputs": [
    {
     "data": {
      "text/html": [
       "<div>\n",
       "<style scoped>\n",
       "    .dataframe tbody tr th:only-of-type {\n",
       "        vertical-align: middle;\n",
       "    }\n",
       "\n",
       "    .dataframe tbody tr th {\n",
       "        vertical-align: top;\n",
       "    }\n",
       "\n",
       "    .dataframe thead th {\n",
       "        text-align: right;\n",
       "    }\n",
       "</style>\n",
       "<table border=\"1\" class=\"dataframe\">\n",
       "  <thead>\n",
       "    <tr style=\"text-align: right;\">\n",
       "      <th></th>\n",
       "      <th>Brand</th>\n",
       "      <th>Model</th>\n",
       "      <th>Location</th>\n",
       "      <th>Year</th>\n",
       "      <th>Kilometers_Driven</th>\n",
       "      <th>Fuel_Type</th>\n",
       "      <th>Transmission</th>\n",
       "      <th>Owner_Type</th>\n",
       "      <th>Mileage</th>\n",
       "      <th>Engine</th>\n",
       "      <th>Power</th>\n",
       "      <th>Seats</th>\n",
       "      <th>Price</th>\n",
       "    </tr>\n",
       "  </thead>\n",
       "  <tbody>\n",
       "    <tr>\n",
       "      <th>0</th>\n",
       "      <td>Maruti</td>\n",
       "      <td>Wagon R LXI CNG</td>\n",
       "      <td>Mumbai</td>\n",
       "      <td>2010</td>\n",
       "      <td>72000</td>\n",
       "      <td>CNG</td>\n",
       "      <td>Manual</td>\n",
       "      <td>First</td>\n",
       "      <td>26.60</td>\n",
       "      <td>998.0</td>\n",
       "      <td>58.16</td>\n",
       "      <td>5.0</td>\n",
       "      <td>1.75</td>\n",
       "    </tr>\n",
       "    <tr>\n",
       "      <th>1</th>\n",
       "      <td>Hyundai</td>\n",
       "      <td>Creta 1.6 CRDi SX Option</td>\n",
       "      <td>Pune</td>\n",
       "      <td>2015</td>\n",
       "      <td>41000</td>\n",
       "      <td>Diesel</td>\n",
       "      <td>Manual</td>\n",
       "      <td>First</td>\n",
       "      <td>19.67</td>\n",
       "      <td>1582.0</td>\n",
       "      <td>126.20</td>\n",
       "      <td>5.0</td>\n",
       "      <td>12.50</td>\n",
       "    </tr>\n",
       "    <tr>\n",
       "      <th>2</th>\n",
       "      <td>Honda</td>\n",
       "      <td>Jazz V</td>\n",
       "      <td>Chennai</td>\n",
       "      <td>2011</td>\n",
       "      <td>46000</td>\n",
       "      <td>Petrol</td>\n",
       "      <td>Manual</td>\n",
       "      <td>First</td>\n",
       "      <td>18.20</td>\n",
       "      <td>1199.0</td>\n",
       "      <td>88.70</td>\n",
       "      <td>5.0</td>\n",
       "      <td>4.50</td>\n",
       "    </tr>\n",
       "    <tr>\n",
       "      <th>3</th>\n",
       "      <td>Maruti</td>\n",
       "      <td>Ertiga VDI</td>\n",
       "      <td>Chennai</td>\n",
       "      <td>2012</td>\n",
       "      <td>87000</td>\n",
       "      <td>Diesel</td>\n",
       "      <td>Manual</td>\n",
       "      <td>First</td>\n",
       "      <td>20.77</td>\n",
       "      <td>1248.0</td>\n",
       "      <td>88.76</td>\n",
       "      <td>7.0</td>\n",
       "      <td>6.00</td>\n",
       "    </tr>\n",
       "    <tr>\n",
       "      <th>4</th>\n",
       "      <td>Audi</td>\n",
       "      <td>A4 New 2.0 TDI Multitronic</td>\n",
       "      <td>Coimbatore</td>\n",
       "      <td>2013</td>\n",
       "      <td>40670</td>\n",
       "      <td>Diesel</td>\n",
       "      <td>Automatic</td>\n",
       "      <td>Second</td>\n",
       "      <td>15.20</td>\n",
       "      <td>1968.0</td>\n",
       "      <td>140.80</td>\n",
       "      <td>5.0</td>\n",
       "      <td>17.74</td>\n",
       "    </tr>\n",
       "  </tbody>\n",
       "</table>\n",
       "</div>"
      ],
      "text/plain": [
       "     Brand                       Model    Location  Year  Kilometers_Driven  \\\n",
       "0   Maruti             Wagon R LXI CNG      Mumbai  2010              72000   \n",
       "1  Hyundai    Creta 1.6 CRDi SX Option        Pune  2015              41000   \n",
       "2    Honda                      Jazz V     Chennai  2011              46000   \n",
       "3   Maruti                  Ertiga VDI     Chennai  2012              87000   \n",
       "4     Audi  A4 New 2.0 TDI Multitronic  Coimbatore  2013              40670   \n",
       "\n",
       "  Fuel_Type Transmission Owner_Type  Mileage  Engine   Power  Seats  Price  \n",
       "0       CNG       Manual      First    26.60   998.0   58.16    5.0   1.75  \n",
       "1    Diesel       Manual      First    19.67  1582.0  126.20    5.0  12.50  \n",
       "2    Petrol       Manual      First    18.20  1199.0   88.70    5.0   4.50  \n",
       "3    Diesel       Manual      First    20.77  1248.0   88.76    7.0   6.00  \n",
       "4    Diesel    Automatic     Second    15.20  1968.0  140.80    5.0  17.74  "
      ]
     },
     "execution_count": 61,
     "metadata": {},
     "output_type": "execute_result"
    }
   ],
   "source": [
    "train.head()"
   ]
  },
  {
   "cell_type": "code",
   "execution_count": 62,
   "metadata": {},
   "outputs": [],
   "source": [
    "df1 = train.copy() \n",
    "df1['Age_of_car'] = '2019'\n",
    "df1['Age_of_car'] = pd.to_datetime(df1['Age_of_car'],format='%Y')\n",
    "df1['Year'] = pd.to_datetime(df1['Year'],format='%Y')\n",
    "df1['Age_of_car'] = (df1['Age_of_car'] - df1['Year']).dt.days\n",
    "train['Age_of_car'] = df1['Age_of_car']\n",
    "\n",
    "df2 = test.copy() \n",
    "df2['Age_of_car'] = '2019'\n",
    "df2['Age_of_car'] = pd.to_datetime(df2['Age_of_car'],format='%Y')\n",
    "df2['Year'] = pd.to_datetime(df2['Year'],format='%Y')\n",
    "df2['Age_of_car'] = (df2['Age_of_car'] - df2['Year']).dt.days\n",
    "test['Age_of_car'] = df2['Age_of_car']\n",
    "\n",
    "del df1, df2\n",
    "train.drop(['Year'], axis=1, inplace=True)\n",
    "test.drop(['Year'], axis=1, inplace=True)"
   ]
  },
  {
   "cell_type": "code",
   "execution_count": 63,
   "metadata": {},
   "outputs": [],
   "source": [
    "market = {'Maruti' : 45.5,\n",
    "'Hyundai'  :    11.5,\n",
    "'Honda' :     4.5,\n",
    "'Toyota'    :  3.5,\n",
    "'Mercedes-Benz' :  2.4,\n",
    "'Volkswagen':   3.6,\n",
    "'Ford'    :   2.5,\n",
    "'Mahindra' : 5.5,\n",
    "'BMW'   :      1.6,\n",
    "'Audi'    :  2,\n",
    "'Tata'  :      5.5,\n",
    "'Skoda'       : 2,\n",
    "'Renault'  :   1.8,\n",
    "'Chevrolet' :   1.5,\n",
    "'Nissan':   1,\n",
    "'Land'    : 1,\n",
    "'Jaguar'      :1,\n",
    "'Fiat'  :    0.6,\n",
    "'Mitsubishi'  : 0.5,\n",
    "'Mini':      0.5,\n",
    "'Volvo'    :   0.5,\n",
    "'Porsche' :  0.2,\n",
    "'Jeep'  :    0.3,\n",
    "'Datsun' :  0.3,\n",
    "'Force'  :      0.1,\n",
    "'ISUZU'  :    0.1,\n",
    "'Smart'  :      0.1,\n",
    "'Lamborghini'  :  0.1,\n",
    "'Ambassador'  :   0.1,\n",
    "'Isuzu' :  0.1,\n",
    "'Bentley': 0.1\n",
    "}\n",
    "train['Market_Share'] = train['Brand'].map(market)\n",
    "train['Market_Share']=train['Market_Share'].replace('null',np.nan)\n",
    "train['Market_Share']=train['Market_Share'].fillna(train['Market_Share'].median())\n",
    "\n",
    "\n",
    "test['Market_Share'] = test['Brand'].map(market)\n",
    "test['Market_Share']=test['Market_Share'].replace('null',np.nan)\n",
    "test['Market_Share']=test['Market_Share'].fillna(test['Market_Share'].median())"
   ]
  },
  {
   "cell_type": "code",
   "execution_count": 64,
   "metadata": {},
   "outputs": [
    {
     "data": {
      "image/png": "[encoded data removed]",
      "text/plain": [
       "<Figure size 432x288 with 1 Axes>"
      ]
     },
     "metadata": {
      "needs_background": "light"
     },
     "output_type": "display_data"
    }
   ],
   "source": [
    "sns.boxplot( y=train[\"Power\"] )\n",
    "plt.show()"
   ]
  },
  {
   "cell_type": "code",
   "execution_count": 65,
   "metadata": {},
   "outputs": [
    {
     "data": {
      "text/plain": [
       "count    5983.000000\n",
       "mean      112.974899\n",
       "std        53.430733\n",
       "min        34.200000\n",
       "25%        77.000000\n",
       "50%        97.700000\n",
       "75%       138.100000\n",
       "max       560.000000\n",
       "Name: Power, dtype: float64"
      ]
     },
     "execution_count": 65,
     "metadata": {},
     "output_type": "execute_result"
    }
   ],
   "source": [
    "train.Power.describe()"
   ]
  },
  {
   "cell_type": "code",
   "execution_count": 66,
   "metadata": {},
   "outputs": [],
   "source": [
    "def get_power(Power):\n",
    "\n",
    "    \n",
    "    if (Power >=250  and Power < 600):\n",
    "        return 'High Power'\n",
    "    elif (Power >= 100 and Power < 250):\n",
    "        return 'Medium Power'\n",
    "    elif (Power >= 0 and Power < 100):\n",
    "        return 'Low Power'\n",
    "    \n",
    "train['Car_Power'] = train['Power'].apply(get_power)\n",
    "train['Car_Power']=train['Car_Power'].replace('null',np.nan)\n",
    "train['Car_Power']=train['Car_Power'].fillna(train['Car_Power'].mode()[0])\n",
    "\n",
    "\n",
    "test['Car_Power'] = test['Power'].apply(get_power) \n",
    "test['Car_Power']=test['Car_Power'].replace('null',np.nan)\n",
    "test['Car_Power']=test['Car_Power'].fillna(test['Car_Power'].mode()[0])\n"
   ]
  },
  {
   "cell_type": "code",
   "execution_count": 67,
   "metadata": {
    "scrolled": false
   },
   "outputs": [
    {
     "data": {
      "image/png": "[encoded data removed]",
      "text/plain": [
       "<Figure size 432x288 with 1 Axes>"
      ]
     },
     "metadata": {
      "needs_background": "light"
     },
     "output_type": "display_data"
    }
   ],
   "source": [
    "sns.boxplot( y=train[\"Engine\"] )\n",
    "plt.show()"
   ]
  },
  {
   "cell_type": "code",
   "execution_count": 68,
   "metadata": {},
   "outputs": [
    {
     "data": {
      "text/plain": [
       "count    6019.000000\n",
       "mean     1618.738827\n",
       "std       600.445858\n",
       "min        72.000000\n",
       "25%      1197.000000\n",
       "50%      1493.000000\n",
       "75%      1969.000000\n",
       "max      5998.000000\n",
       "Name: Engine, dtype: float64"
      ]
     },
     "execution_count": 68,
     "metadata": {},
     "output_type": "execute_result"
    }
   ],
   "source": [
    "train.Engine.describe()"
   ]
  },
  {
   "cell_type": "code",
   "execution_count": 69,
   "metadata": {},
   "outputs": [],
   "source": [
    "def get_engine(Engine):\n",
    "\n",
    "    \n",
    "    if (Engine >=3000  and Engine < 6000):\n",
    "        return 'High Engine'\n",
    "    elif (Engine >= 1500 and Engine < 3000):\n",
    "        return 'Medium Engine'\n",
    "    elif (Engine >= 0 and Engine < 1500):\n",
    "        return 'Low Engine'\n",
    "    \n",
    "train['Car_Engine'] = train['Engine'].apply(get_engine)   \n",
    "test['Car_Engine'] = test['Engine'].apply(get_engine) "
   ]
  },
  {
   "cell_type": "code",
   "execution_count": 70,
   "metadata": {},
   "outputs": [
    {
     "data": {
      "image/png": "[encoded data removed]",
      "text/plain": [
       "<Figure size 432x288 with 1 Axes>"
      ]
     },
     "metadata": {
      "needs_background": "light"
     },
     "output_type": "display_data"
    }
   ],
   "source": [
    "sns.boxplot( y=train[\"Mileage\"] )\n",
    "plt.show()"
   ]
  },
  {
   "cell_type": "code",
   "execution_count": 71,
   "metadata": {},
   "outputs": [
    {
     "data": {
      "text/plain": [
       "count    6019.000000\n",
       "mean       18.134966\n",
       "std         4.581528\n",
       "min         0.000000\n",
       "25%        15.170000\n",
       "50%        18.150000\n",
       "75%        21.100000\n",
       "max        33.540000\n",
       "Name: Mileage, dtype: float64"
      ]
     },
     "execution_count": 71,
     "metadata": {},
     "output_type": "execute_result"
    }
   ],
   "source": [
    "train.Mileage.describe()"
   ]
  },
  {
   "cell_type": "code",
   "execution_count": 72,
   "metadata": {},
   "outputs": [],
   "source": [
    "def get_mileage(Mileage):\n",
    "\n",
    "    \n",
    "    if (Mileage >=24  and Mileage < 40):\n",
    "        return 'Best Mileage'\n",
    "    elif (Mileage >= 12 and Mileage < 24):\n",
    "        return 'Economy Mileage'\n",
    "    elif (Mileage >= 0 and Mileage < 12):\n",
    "        return 'Least Mileage'\n",
    "    \n",
    "train['Car_Mileage'] = train['Mileage'].apply(get_mileage)   \n",
    "test['Car_Mileage'] = test['Mileage'].apply(get_mileage) "
   ]
  },
  {
   "cell_type": "code",
   "execution_count": 73,
   "metadata": {},
   "outputs": [],
   "source": [
    "def get_Kilometers(Kilometers_Driven):\n",
    "\n",
    "    \n",
    "    if (Kilometers_Driven >=300000  and Kilometers_Driven < 800000):\n",
    "        return 'High Driven'\n",
    "    elif (Kilometers_Driven >= 100000 and Kilometers_Driven < 300000):\n",
    "        return 'Medium Driven'\n",
    "    elif (Kilometers_Driven >= 40000 and Kilometers_Driven < 100000):\n",
    "        return 'Minimum Driven'\n",
    "    elif (Kilometers_Driven >= 1 and Kilometers_Driven < 40000):\n",
    "        return 'Least Driven'\n",
    "    \n",
    "train['Car_Driven'] = train['Kilometers_Driven'].apply(get_Kilometers)\n",
    "train['Car_Driven']=train['Car_Driven'].replace('null',np.nan)\n",
    "train['Car_Driven']=train['Car_Driven'].fillna(train['Car_Driven'].mode()[0])\n",
    "\n",
    "\n",
    "test['Car_Driven'] = test['Kilometers_Driven'].apply(get_Kilometers) \n",
    "test['Car_Driven']=test['Car_Driven'].replace('null',np.nan)\n",
    "test['Car_Driven']=test['Car_Driven'].fillna(test['Car_Driven'].mode()[0])\n"
   ]
  },
  {
   "cell_type": "code",
   "execution_count": 74,
   "metadata": {},
   "outputs": [
    {
     "name": "stdout",
     "output_type": "stream",
     "text": [
      "<class 'pandas.core.frame.DataFrame'>\n",
      "RangeIndex: 6019 entries, 0 to 6018\n",
      "Data columns (total 18 columns):\n",
      " #   Column             Non-Null Count  Dtype  \n",
      "---  ------             --------------  -----  \n",
      " 0   Brand              6019 non-null   object \n",
      " 1   Model              6019 non-null   object \n",
      " 2   Location           6019 non-null   object \n",
      " 3   Kilometers_Driven  6019 non-null   int64  \n",
      " 4   Fuel_Type          6019 non-null   object \n",
      " 5   Transmission       6019 non-null   object \n",
      " 6   Owner_Type         6019 non-null   object \n",
      " 7   Mileage            6019 non-null   float64\n",
      " 8   Engine             6019 non-null   float64\n",
      " 9   Power              5983 non-null   float64\n",
      " 10  Seats              6019 non-null   float64\n",
      " 11  Price              6019 non-null   float64\n",
      " 12  Age_of_car         6019 non-null   int64  \n",
      " 13  Market_Share       6019 non-null   float64\n",
      " 14  Car_Power          6019 non-null   object \n",
      " 15  Car_Engine         6019 non-null   object \n",
      " 16  Car_Mileage        6019 non-null   object \n",
      " 17  Car_Driven         6019 non-null   object \n",
      "dtypes: float64(6), int64(2), object(10)\n",
      "memory usage: 846.5+ KB\n"
     ]
    }
   ],
   "source": [
    "train.info()"
   ]
  },
  {
   "cell_type": "code",
   "execution_count": 75,
   "metadata": {},
   "outputs": [
    {
     "data": {
      "text/plain": [
       "Maruti           1211\n",
       "Hyundai          1107\n",
       "Honda             608\n",
       "Toyota            411\n",
       "Mercedes-Benz     318\n",
       "Volkswagen        315\n",
       "Ford              300\n",
       "Mahindra          272\n",
       "BMW               267\n",
       "Audi              236\n",
       "Tata              186\n",
       "Skoda             173\n",
       "Renault           145\n",
       "Chevrolet         121\n",
       "Nissan             91\n",
       "Land               60\n",
       "Jaguar             40\n",
       "Fiat               28\n",
       "Mitsubishi         27\n",
       "Mini               26\n",
       "Volvo              21\n",
       "Porsche            18\n",
       "Jeep               15\n",
       "Datsun             13\n",
       "Force               3\n",
       "ISUZU               2\n",
       "Isuzu               1\n",
       "Smart               1\n",
       "Lamborghini         1\n",
       "Bentley             1\n",
       "Ambassador          1\n",
       "Name: Brand, dtype: int64"
      ]
     },
     "execution_count": 75,
     "metadata": {},
     "output_type": "execute_result"
    }
   ],
   "source": [
    "train.Brand.value_counts()"
   ]
  },
  {
   "cell_type": "code",
   "execution_count": 76,
   "metadata": {},
   "outputs": [
    {
     "data": {
      "text/plain": [
       "Diesel      3205\n",
       "Petrol      2746\n",
       "CNG           56\n",
       "LPG           10\n",
       "Electric       2\n",
       "Name: Fuel_Type, dtype: int64"
      ]
     },
     "execution_count": 76,
     "metadata": {},
     "output_type": "execute_result"
    }
   ],
   "source": [
    "train.Fuel_Type.value_counts()"
   ]
  },
  {
   "cell_type": "code",
   "execution_count": 77,
   "metadata": {
    "scrolled": true
   },
   "outputs": [
    {
     "data": {
      "text/plain": [
       "Brand                 0\n",
       "Model                 0\n",
       "Location              0\n",
       "Kilometers_Driven     0\n",
       "Fuel_Type             0\n",
       "Transmission          0\n",
       "Owner_Type            0\n",
       "Mileage               0\n",
       "Engine                0\n",
       "Power                36\n",
       "Seats                 0\n",
       "Price                 0\n",
       "Age_of_car            0\n",
       "Market_Share          0\n",
       "Car_Power             0\n",
       "Car_Engine            0\n",
       "Car_Mileage           0\n",
       "Car_Driven            0\n",
       "dtype: int64"
      ]
     },
     "execution_count": 77,
     "metadata": {},
     "output_type": "execute_result"
    }
   ],
   "source": [
    "train.isnull().sum()"
   ]
  },
  {
   "cell_type": "code",
   "execution_count": 78,
   "metadata": {},
   "outputs": [
    {
     "name": "stdout",
     "output_type": "stream",
     "text": [
      "<class 'pandas.core.frame.DataFrame'>\n",
      "RangeIndex: 1234 entries, 0 to 1233\n",
      "Data columns (total 17 columns):\n",
      " #   Column             Non-Null Count  Dtype  \n",
      "---  ------             --------------  -----  \n",
      " 0   Brand              1234 non-null   object \n",
      " 1   Model              1234 non-null   object \n",
      " 2   Location           1234 non-null   object \n",
      " 3   Kilometers_Driven  1234 non-null   int64  \n",
      " 4   Fuel_Type          1234 non-null   object \n",
      " 5   Transmission       1234 non-null   object \n",
      " 6   Owner_Type         1234 non-null   object \n",
      " 7   Mileage            1234 non-null   float64\n",
      " 8   Engine             1234 non-null   float64\n",
      " 9   Power              1224 non-null   float64\n",
      " 10  Seats              1234 non-null   float64\n",
      " 11  Age_of_car         1234 non-null   int64  \n",
      " 12  Market_Share       1234 non-null   float64\n",
      " 13  Car_Power          1234 non-null   object \n",
      " 14  Car_Engine         1234 non-null   object \n",
      " 15  Car_Mileage        1234 non-null   object \n",
      " 16  Car_Driven         1234 non-null   object \n",
      "dtypes: float64(5), int64(2), object(10)\n",
      "memory usage: 164.0+ KB\n"
     ]
    }
   ],
   "source": [
    "test.info()"
   ]
  },
  {
   "cell_type": "code",
   "execution_count": 79,
   "metadata": {
    "scrolled": true
   },
   "outputs": [
    {
     "data": {
      "text/plain": [
       "Brand                 0\n",
       "Model                 0\n",
       "Location              0\n",
       "Kilometers_Driven     0\n",
       "Fuel_Type             0\n",
       "Transmission          0\n",
       "Owner_Type            0\n",
       "Mileage               0\n",
       "Engine                0\n",
       "Power                10\n",
       "Seats                 0\n",
       "Age_of_car            0\n",
       "Market_Share          0\n",
       "Car_Power             0\n",
       "Car_Engine            0\n",
       "Car_Mileage           0\n",
       "Car_Driven            0\n",
       "dtype: int64"
      ]
     },
     "execution_count": 79,
     "metadata": {},
     "output_type": "execute_result"
    }
   ],
   "source": [
    "test.isnull().sum()"
   ]
  },
  {
   "cell_type": "code",
   "execution_count": 80,
   "metadata": {},
   "outputs": [],
   "source": [
    "train_df = pd.get_dummies(train, columns=['Brand', 'Model', 'Location', 'Fuel_Type', 'Transmission',\n",
    "      'Owner_Type', 'Mileage','Car_Mileage', 'Engine','Car_Engine', 'Power','Car_Power', 'Seats','Car_Driven'],drop_first=True)\n",
    "test_df = pd.get_dummies(test, columns=['Brand', 'Model', 'Location', 'Fuel_Type', 'Transmission',\n",
    "      'Owner_Type', 'Mileage','Car_Mileage', 'Engine','Car_Engine', 'Power','Car_Power', 'Seats','Car_Driven'],drop_first=True)"
   ]
  },
  {
   "cell_type": "code",
   "execution_count": 81,
   "metadata": {},
   "outputs": [],
   "source": [
    "X = train_df.drop(labels=['Price'], axis=1)\n",
    "y = train_df['Price'].values\n",
    "\n",
    "from sklearn.model_selection import train_test_split\n",
    "x_train, x_test, y_train, y_test = train_test_split(X,y,test_size = 0.3, random_state = 2)"
   ]
  },
  {
   "cell_type": "code",
   "execution_count": 82,
   "metadata": {},
   "outputs": [
    {
     "data": {
      "text/plain": [
       "((4213, 2885), (4213,), (1806, 2885), (1806,))"
      ]
     },
     "execution_count": 82,
     "metadata": {},
     "output_type": "execute_result"
    }
   ],
   "source": [
    "x_train.shape, y_train.shape, x_test.shape, y_test.shape"
   ]
  },
  {
   "cell_type": "code",
   "execution_count": 83,
   "metadata": {},
   "outputs": [],
   "source": [
    "\n",
    "#Feature Scaling\n",
    "from sklearn.preprocessing import StandardScaler\n",
    "sc=StandardScaler()\n",
    "x_train = sc.fit_transform(x_train)\n",
    "x_test = sc.transform(x_test)"
   ]
  },
  {
   "cell_type": "code",
   "execution_count": 84,
   "metadata": {},
   "outputs": [],
   "source": [
    "from math import sqrt \n",
    "from sklearn.metrics import mean_squared_log_error"
   ]
  },
  {
   "cell_type": "code",
   "execution_count": 85,
   "metadata": {},
   "outputs": [
    {
     "name": "stderr",
     "output_type": "stream",
     "text": [
      "C:\\Users\\Vedika\\anaconda3\\lib\\site-packages\\lightgbm\\engine.py:148: UserWarning: Found `n_estimators` in params. Will use it instead of argument\n",
      "  warnings.warn(\"Found `{}` in params. Will use it instead of argument\".format(alias))\n"
     ]
    },
    {
     "name": "stdout",
     "output_type": "stream",
     "text": [
      "[100]\tvalid_0's l2: 18.0991\n",
      "RMSLE: 4.248951855423217\n"
     ]
    }
   ],
   "source": [
    "import lightgbm as lgb\n",
    "train_data = lgb.Dataset(x_train, label=y_train)\n",
    "test_data = lgb.Dataset(x_test, label=y_test)\n",
    "\n",
    "\n",
    "\n",
    "param = {'objective':'regression','num_leaves':80,\n",
    "                              'learning_rate':0.1, 'n_estimators':100,\n",
    "                              'max_bin' : 30, 'bagging_fraction' : 0.8,\n",
    "                              'bagging_freq' : 9, 'feature_fraction' :0.129,\n",
    "                              'feature_fraction_seed':9, 'bagging_seed':9,\n",
    "                              'min_data_in_leaf' :3, 'min_sum_hessian_in_leaf' : 6, 'random_state':10}\n",
    "lgbm = lgb.train(params=param,\n",
    "                 verbose_eval=100,\n",
    "                 train_set=train_data,\n",
    "                 valid_sets=[test_data])\n",
    "\n",
    "y_pred = lgbm.predict(x_test)\n",
    "print('RMSLE:', sqrt(mean_squared_log_error(np.exp(y_test), np.exp(y_pred))))"
   ]
  },
  {
   "cell_type": "markdown",
   "metadata": {},
   "source": [
    "## Save the model"
   ]
  },
  {
   "cell_type": "code",
   "execution_count": 89,
   "metadata": {},
   "outputs": [],
   "source": [
    "import pickle\n",
    "# open a file, where you ant to store the data\n",
    "file = open('car_price.pkl', 'wb')\n",
    "\n",
    "# dump information to that file\n",
    "pickle.dump(lgbm, file)"
   ]
  },
  {
   "cell_type": "code",
   "execution_count": 90,
   "metadata": {},
   "outputs": [],
   "source": [
    "model = open('car_price.pkl','rb')\n"
   ]
  },
  {
   "cell_type": "code",
   "execution_count": 91,
   "metadata": {},
   "outputs": [],
   "source": [
    "forest = pickle.load(model)\n"
   ]
  }
 ],
 "metadata": {
  "kernelspec": {
   "display_name": "Python 3",
   "language": "python",
   "name": "python3"
  },
  "language_info": {
   "codemirror_mode": {
    "name": "ipython",
    "version": 3
   },
   "file_extension": ".py",
   "mimetype": "text/x-python",
   "name": "python",
   "nbconvert_exporter": "python",
   "pygments_lexer": "ipython3",
   "version": "3.7.6"
  }
 },
 "nbformat": 4,
 "nbformat_minor": 2
}
